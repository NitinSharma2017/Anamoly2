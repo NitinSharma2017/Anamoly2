{
  "nbformat": 4,
  "nbformat_minor": 0,
  "metadata": {
    "colab": {
      "provenance": []
    },
    "kernelspec": {
      "name": "python3",
      "display_name": "Python 3"
    },
    "language_info": {
      "name": "python"
    }
  },
  "cells": [
    {
      "cell_type": "code",
      "execution_count": 1,
      "metadata": {
        "colab": {
          "base_uri": "https://localhost:8080/"
        },
        "id": "d-MUS1DDtHgm",
        "outputId": "a7e69e9e-cc6b-43a6-85ff-b87b4fca4c90"
      },
      "outputs": [
        {
          "output_type": "stream",
          "name": "stdout",
          "text": [
            "Looking in indexes: https://pypi.org/simple, https://us-python.pkg.dev/colab-wheels/public/simple/\n",
            "Collecting pyod\n",
            "  Downloading pyod-1.0.9.tar.gz (149 kB)\n",
            "\u001b[2K     \u001b[90m━━━━━━━━━━━━━━━━━━━━━━━━━━━━━━━━━━━━━━━\u001b[0m \u001b[32m150.0/150.0 kB\u001b[0m \u001b[31m2.0 MB/s\u001b[0m eta \u001b[36m0:00:00\u001b[0m\n",
            "\u001b[?25h  Preparing metadata (setup.py) ... \u001b[?25l\u001b[?25hdone\n",
            "Requirement already satisfied: joblib in /usr/local/lib/python3.10/dist-packages (from pyod) (1.2.0)\n",
            "Requirement already satisfied: matplotlib in /usr/local/lib/python3.10/dist-packages (from pyod) (3.7.1)\n",
            "Requirement already satisfied: numpy>=1.19 in /usr/local/lib/python3.10/dist-packages (from pyod) (1.22.4)\n",
            "Requirement already satisfied: numba>=0.51 in /usr/local/lib/python3.10/dist-packages (from pyod) (0.56.4)\n",
            "Requirement already satisfied: scipy>=1.5.1 in /usr/local/lib/python3.10/dist-packages (from pyod) (1.10.1)\n",
            "Requirement already satisfied: scikit_learn>=0.20.0 in /usr/local/lib/python3.10/dist-packages (from pyod) (1.2.2)\n",
            "Requirement already satisfied: six in /usr/local/lib/python3.10/dist-packages (from pyod) (1.16.0)\n",
            "Requirement already satisfied: llvmlite<0.40,>=0.39.0dev0 in /usr/local/lib/python3.10/dist-packages (from numba>=0.51->pyod) (0.39.1)\n",
            "Requirement already satisfied: setuptools in /usr/local/lib/python3.10/dist-packages (from numba>=0.51->pyod) (67.7.2)\n",
            "Requirement already satisfied: threadpoolctl>=2.0.0 in /usr/local/lib/python3.10/dist-packages (from scikit_learn>=0.20.0->pyod) (3.1.0)\n",
            "Requirement already satisfied: contourpy>=1.0.1 in /usr/local/lib/python3.10/dist-packages (from matplotlib->pyod) (1.0.7)\n",
            "Requirement already satisfied: cycler>=0.10 in /usr/local/lib/python3.10/dist-packages (from matplotlib->pyod) (0.11.0)\n",
            "Requirement already satisfied: fonttools>=4.22.0 in /usr/local/lib/python3.10/dist-packages (from matplotlib->pyod) (4.39.3)\n",
            "Requirement already satisfied: kiwisolver>=1.0.1 in /usr/local/lib/python3.10/dist-packages (from matplotlib->pyod) (1.4.4)\n",
            "Requirement already satisfied: packaging>=20.0 in /usr/local/lib/python3.10/dist-packages (from matplotlib->pyod) (23.1)\n",
            "Requirement already satisfied: pillow>=6.2.0 in /usr/local/lib/python3.10/dist-packages (from matplotlib->pyod) (8.4.0)\n",
            "Requirement already satisfied: pyparsing>=2.3.1 in /usr/local/lib/python3.10/dist-packages (from matplotlib->pyod) (3.0.9)\n",
            "Requirement already satisfied: python-dateutil>=2.7 in /usr/local/lib/python3.10/dist-packages (from matplotlib->pyod) (2.8.2)\n",
            "Building wheels for collected packages: pyod\n",
            "  Building wheel for pyod (setup.py) ... \u001b[?25l\u001b[?25hdone\n",
            "  Created wheel for pyod: filename=pyod-1.0.9-py3-none-any.whl size=184097 sha256=f463beba0c26875d0f95749a5446939d42f1b0fe8fc40f953e7416de380228e9\n",
            "  Stored in directory: /root/.cache/pip/wheels/83/55/6b/552e083cf5509c0afe808b76cf434f1be284d01a112623bd37\n",
            "Successfully built pyod\n",
            "Installing collected packages: pyod\n",
            "Successfully installed pyod-1.0.9\n",
            "Looking in indexes: https://pypi.org/simple, https://us-python.pkg.dev/colab-wheels/public/simple/\n",
            "Requirement already satisfied: pyod in /usr/local/lib/python3.10/dist-packages (1.0.9)\n",
            "Requirement already satisfied: joblib in /usr/local/lib/python3.10/dist-packages (from pyod) (1.2.0)\n",
            "Requirement already satisfied: matplotlib in /usr/local/lib/python3.10/dist-packages (from pyod) (3.7.1)\n",
            "Requirement already satisfied: numpy>=1.19 in /usr/local/lib/python3.10/dist-packages (from pyod) (1.22.4)\n",
            "Requirement already satisfied: numba>=0.51 in /usr/local/lib/python3.10/dist-packages (from pyod) (0.56.4)\n",
            "Requirement already satisfied: scipy>=1.5.1 in /usr/local/lib/python3.10/dist-packages (from pyod) (1.10.1)\n",
            "Requirement already satisfied: scikit-learn>=0.20.0 in /usr/local/lib/python3.10/dist-packages (from pyod) (1.2.2)\n",
            "Requirement already satisfied: six in /usr/local/lib/python3.10/dist-packages (from pyod) (1.16.0)\n",
            "Requirement already satisfied: llvmlite<0.40,>=0.39.0dev0 in /usr/local/lib/python3.10/dist-packages (from numba>=0.51->pyod) (0.39.1)\n",
            "Requirement already satisfied: setuptools in /usr/local/lib/python3.10/dist-packages (from numba>=0.51->pyod) (67.7.2)\n",
            "Requirement already satisfied: threadpoolctl>=2.0.0 in /usr/local/lib/python3.10/dist-packages (from scikit-learn>=0.20.0->pyod) (3.1.0)\n",
            "Requirement already satisfied: contourpy>=1.0.1 in /usr/local/lib/python3.10/dist-packages (from matplotlib->pyod) (1.0.7)\n",
            "Requirement already satisfied: cycler>=0.10 in /usr/local/lib/python3.10/dist-packages (from matplotlib->pyod) (0.11.0)\n",
            "Requirement already satisfied: fonttools>=4.22.0 in /usr/local/lib/python3.10/dist-packages (from matplotlib->pyod) (4.39.3)\n",
            "Requirement already satisfied: kiwisolver>=1.0.1 in /usr/local/lib/python3.10/dist-packages (from matplotlib->pyod) (1.4.4)\n",
            "Requirement already satisfied: packaging>=20.0 in /usr/local/lib/python3.10/dist-packages (from matplotlib->pyod) (23.1)\n",
            "Requirement already satisfied: pillow>=6.2.0 in /usr/local/lib/python3.10/dist-packages (from matplotlib->pyod) (8.4.0)\n",
            "Requirement already satisfied: pyparsing>=2.3.1 in /usr/local/lib/python3.10/dist-packages (from matplotlib->pyod) (3.0.9)\n",
            "Requirement already satisfied: python-dateutil>=2.7 in /usr/local/lib/python3.10/dist-packages (from matplotlib->pyod) (2.8.2)\n"
          ]
        }
      ],
      "source": [
        "!pip install pyod\n",
        "!pip install --upgrade pyod  # to make sure that the latest version is installed!"
      ]
    },
    {
      "cell_type": "code",
      "source": [
        "import numpy as np\n",
        "import pandas as pd\n",
        "from sklearn.ensemble import IsolationForest\n",
        "import matplotlib.font_manager\n",
        "import matplotlib.pyplot as plt\n",
        "state=42"
      ],
      "metadata": {
        "id": "if50hYX7t0sQ"
      },
      "execution_count": 4,
      "outputs": []
    },
    {
      "cell_type": "markdown",
      "source": [],
      "metadata": {
        "id": "GdWhoRgCtxrg"
      }
    },
    {
      "cell_type": "code",
      "source": [
        "\n",
        "from scipy import stats\n",
        "import matplotlib.pyplot as plt\n",
        "from pyod.models.iforest import IForest\n",
        "from pyod.models.abod import ABOD\n",
        "from pyod.models.knn import KNN\n",
        "from pyod.models.iforest import IForest\n",
        "from pyod.models.cblof import CBLOF\n",
        "from pyod.models.hbos import HBOS\n",
        "from pyod.models.ocsvm import OCSVM\n"
      ],
      "metadata": {
        "id": "Vs6dG7ZxtaoZ"
      },
      "execution_count": 3,
      "outputs": []
    },
    {
      "cell_type": "code",
      "source": [
        "\n"
      ],
      "metadata": {
        "id": "zIfxihnUtarx"
      },
      "execution_count": null,
      "outputs": []
    },
    {
      "cell_type": "code",
      "source": [
        "class UnivariateAnamolyDetection():\n",
        "  def __init__(self ):\n",
        "    #self.input_file = input_file\n",
        "    # by default the outlier fraction is 0.1 in generate data function\n",
        "    self.outlier_fraction = 0.2\n",
        "    self.models = {\n",
        "     'ABOD'   : ABOD(contamination=self.outlier_fraction),\n",
        "     'IF': IForest(contamination=self.outlier_fraction,random_state=state),\n",
        "     'CBLOF':CBLOF(contamination=self.outlier_fraction,check_estimator=False, random_state=state),\n",
        "     'HBOS': HBOS(contamination=self.outlier_fraction),\n",
        "     'KNN' :  KNN(contamination=self.outlier_fraction),     \n",
        "     \"OCSVM\":OCSVM(kernel='rbf', degree=3, gamma=0.1,nu=0.05,max_iter=-1)\n",
        "     \n",
        "}\n",
        "\n",
        "  def fit_model_2(self, model, data, column , model_name):\n",
        "      \n",
        "      df = data.copy()\n",
        "      data_to_predict = data[column].to_numpy().reshape(-1, 1).astype(float)\n",
        "      model.fit(data_to_predict)\n",
        "      # predict raw anomaly score\n",
        "      scores_pred = model.decision_function(data_to_predict)*-1\n",
        "\n",
        "      # prediction of a datapoint category outlier or inlier\n",
        "      y_pred = model.predict(data_to_predict)\n",
        "      #predictions = model.fit_predict(data_to_predict)\n",
        "      c_name_prediction = column + \"_\" + model_name + \"_Predictions\"\n",
        "      c_name_score = column + \"_\" + model_name + \"_Score\"\n",
        "      df[c_name_prediction] = y_pred\n",
        "      df[c_name_score] = scores_pred\n",
        "      # threshold value to consider a datapoint inlier or outlier\n",
        "      threshold = stats.scoreatpercentile(scores_pred,100 * self.outlier_fraction)\n",
        "      return df,threshold\n",
        "\n",
        "  def get_anamoly(self , data, column , evaluation_model = \"IF\" ):\n",
        "    model = self.models[evaluation_model]\n",
        "    df,threshold = self.fit_model_2(model, df_student,column , evaluation_model)\n",
        "    return df,threshold"
      ],
      "metadata": {
        "id": "GdJ7MG5atavD"
      },
      "execution_count": 29,
      "outputs": []
    },
    {
      "cell_type": "code",
      "source": [
        "file_name = \"student_marks.xlsx\"\n",
        "columns = ['Marks_20', 'Marks_50', 'Marks_100']\n",
        "df_student = pd.read_excel(file_name)\n",
        "df_student.columns"
      ],
      "metadata": {
        "colab": {
          "base_uri": "https://localhost:8080/"
        },
        "id": "grVVXNG1tayQ",
        "outputId": "e99c5949-1fa4-4932-b2df-84803bec6c03"
      },
      "execution_count": 7,
      "outputs": [
        {
          "output_type": "execute_result",
          "data": {
            "text/plain": [
              "Index(['RollNumber', 'Marks_20', 'Marks_50', 'Marks_100'], dtype='object')"
            ]
          },
          "metadata": {},
          "execution_count": 7
        }
      ]
    },
    {
      "cell_type": "code",
      "source": [
        "uad = UnivariateAnamolyDetection()\n",
        "df_student_anamoly = df_student.copy(deep = True)\n",
        "for column in columns:\n",
        "  print(\"Running for \" , columns)\n",
        "  df_student_anamoly = uad.get_anamoly(df_student_anamoly,column , \"IF\")\n",
        "  #break\n",
        "df_student_anamoly"
      ],
      "metadata": {
        "colab": {
          "base_uri": "https://localhost:8080/"
        },
        "id": "QU4jToxOta0l",
        "outputId": "b5e8dfd8-82fe-41d7-badb-4a5525c8ac91"
      },
      "execution_count": 33,
      "outputs": [
        {
          "output_type": "stream",
          "name": "stdout",
          "text": [
            "Running for  ['Marks_20', 'Marks_50', 'Marks_100']\n",
            "Running for  ['Marks_20', 'Marks_50', 'Marks_100']\n",
            "Running for  ['Marks_20', 'Marks_50', 'Marks_100']\n"
          ]
        },
        {
          "output_type": "execute_result",
          "data": {
            "text/plain": [
              "(    RollNumber  Marks_20  Marks_50  Marks_100  Marks_100_IF_Predictions  \\\n",
              " 0            1        12         3         71                         0   \n",
              " 1            2        13        23          5                         1   \n",
              " 2            3        -8        36         59                         0   \n",
              " 3            4        12        34         53                         0   \n",
              " 4            5        14        34         57                         0   \n",
              " 5            6        12        23         52                         0   \n",
              " 6            7        22        20         67                         0   \n",
              " 7            8        16        25         50                         0   \n",
              " 8            9         8        35         65                         0   \n",
              " 9           10        10        41         63                         0   \n",
              " 10          11        13        27         56                         0   \n",
              " 11          12        11        23         58                         0   \n",
              " 12          13         9        36        100                         1   \n",
              " 13          14        15        50         59                         0   \n",
              " 14          15         1        35         75                         1   \n",
              " \n",
              "     Marks_100_IF_Score  \n",
              " 0             0.034632  \n",
              " 1            -0.288169  \n",
              " 2             0.123763  \n",
              " 3             0.085555  \n",
              " 4             0.121353  \n",
              " 5             0.079869  \n",
              " 6             0.076121  \n",
              " 7             0.005877  \n",
              " 8             0.089725  \n",
              " 9             0.094744  \n",
              " 10            0.109348  \n",
              " 11            0.119826  \n",
              " 12           -0.231010  \n",
              " 13            0.123763  \n",
              " 14           -0.023508  ,\n",
              " 7.806255641895632e-18)"
            ]
          },
          "metadata": {},
          "execution_count": 33
        }
      ]
    },
    {
      "cell_type": "code",
      "source": [
        "display(df_student_anamoly)"
      ],
      "metadata": {
        "colab": {
          "base_uri": "https://localhost:8080/",
          "height": 607
        },
        "id": "ImujDhmDta3m",
        "outputId": "76b2b054-1ed9-4063-f43c-af7775b6b8cd"
      },
      "execution_count": 32,
      "outputs": [
        {
          "output_type": "display_data",
          "data": {
            "text/plain": [
              "(    RollNumber  Marks_20  Marks_50  Marks_100  Marks_100_IF_Predictions  \\\n",
              " 0            1        12         3         71                         0   \n",
              " 1            2        13        23          5                         1   \n",
              " 2            3        -8        36         59                         0   \n",
              " 3            4        12        34         53                         0   \n",
              " 4            5        14        34         57                         0   \n",
              " 5            6        12        23         52                         0   \n",
              " 6            7        22        20         67                         0   \n",
              " 7            8        16        25         50                         0   \n",
              " 8            9         8        35         65                         0   \n",
              " 9           10        10        41         63                         0   \n",
              " 10          11        13        27         56                         0   \n",
              " 11          12        11        23         58                         0   \n",
              " 12          13         9        36        100                         1   \n",
              " 13          14        15        50         59                         0   \n",
              " 14          15         1        35         75                         1   \n",
              " \n",
              "     Marks_100_IF_Score  \n",
              " 0             0.034632  \n",
              " 1            -0.288169  \n",
              " 2             0.123763  \n",
              " 3             0.085555  \n",
              " 4             0.121353  \n",
              " 5             0.079869  \n",
              " 6             0.076121  \n",
              " 7             0.005877  \n",
              " 8             0.089725  \n",
              " 9             0.094744  \n",
              " 10            0.109348  \n",
              " 11            0.119826  \n",
              " 12           -0.231010  \n",
              " 13            0.123763  \n",
              " 14           -0.023508  ,\n",
              " 7.806255641895632e-18)"
            ]
          },
          "metadata": {}
        }
      ]
    },
    {
      "cell_type": "code",
      "source": [
        "outlier_fraction = 0.1\n",
        "models = {\n",
        "     'Angle-based Outlier Detector (ABOD)'   : ABOD(contamination=outlier_fraction),\n",
        "\n",
        "     'Isolation Forest': IForest(contamination=outlier_fraction,random_state=state),\n",
        "\n",
        "     'Cluster-based Local Outlier Factor (CBLOF)':CBLOF(contamination=outlier_fraction,check_estimator=False, random_state=state),\n",
        "\n",
        "     'Histogram-base Outlier Detection (HBOS)': HBOS(contamination=outlier_fraction),\n",
        "\n",
        "     'K Nearest Neighbors (KNN)' :  KNN(contamination=outlier_fraction),\n",
        "     \n",
        "     \"Support Vector Machine\":OCSVM(kernel='rbf', degree=3, gamma=0.1,nu=0.05,max_iter=-1)\n",
        "}\n",
        "\n",
        "\n",
        "models.keys()"
      ],
      "metadata": {
        "colab": {
          "base_uri": "https://localhost:8080/"
        },
        "id": "aGjwWbNBta6n",
        "outputId": "b3b53295-c88b-4b24-fea7-29223d287c4e"
      },
      "execution_count": 14,
      "outputs": [
        {
          "output_type": "execute_result",
          "data": {
            "text/plain": [
              "dict_keys(['Angle-based Outlier Detector (ABOD)', 'Isolation Forest', 'Cluster-based Local Outlier Factor (CBLOF)', 'Histogram-base Outlier Detection (HBOS)', 'K Nearest Neighbors (KNN)', 'Support Vector Machine'])"
            ]
          },
          "metadata": {},
          "execution_count": 14
        }
      ]
    }
  ]
}